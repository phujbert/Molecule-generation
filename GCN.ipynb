{
  "nbformat": 4,
  "nbformat_minor": 0,
  "metadata": {
    "colab": {
      "name": "GCN_first.ipynb",
      "provenance": [],
      "collapsed_sections": []
    },
    "kernelspec": {
      "name": "python3",
      "display_name": "Python 3"
    },
    "language_info": {
      "name": "python"
    }
  },
  "cells": [
    {
      "cell_type": "markdown",
      "source": [
        "# Intro to Graph Convolutional Network"
      ],
      "metadata": {
        "id": "0EXlQMYQbPXE"
      }
    },
    {
      "cell_type": "code",
      "source": [
        "import numpy as np"
      ],
      "metadata": {
        "id": "X-Y83UH8bZ0P"
      },
      "execution_count": null,
      "outputs": []
    },
    {
      "cell_type": "code",
      "source": [
        "A_m = np.matrix([\n",
        "    [0, 1, 1, 1],\n",
        "    [0, 0, 1, 1],\n",
        "    [1, 0, 0, 0],\n",
        "    [0, 0, 1, 0]\n",
        "], dtype=np.float32)\n",
        "A_m"
      ],
      "metadata": {
        "colab": {
          "base_uri": "https://localhost:8080/"
        },
        "id": "NbKdIE4ybdXI",
        "outputId": "e396b241-8ed1-421f-efdd-52e943290727"
      },
      "execution_count": null,
      "outputs": [
        {
          "output_type": "execute_result",
          "data": {
            "text/plain": [
              "matrix([[0., 1., 1., 1.],\n",
              "        [0., 0., 1., 1.],\n",
              "        [1., 0., 0., 0.],\n",
              "        [0., 0., 1., 0.]], dtype=float32)"
            ]
          },
          "metadata": {},
          "execution_count": 55
        }
      ]
    },
    {
      "cell_type": "code",
      "source": [
        "X_m = np.matrix([\n",
        "    [0, 1, -1, 0],\n",
        "    [5, 3, 2, 1],\n",
        "    [1, 0, 0, 0],\n",
        "    [1, 1, 0, 0]\n",
        "], dtype=np.float32)\n",
        "X_m"
      ],
      "metadata": {
        "colab": {
          "base_uri": "https://localhost:8080/"
        },
        "id": "vm6nzJg9caYl",
        "outputId": "c76dae8f-b39e-4ad8-9762-13b1ef23dbc8"
      },
      "execution_count": null,
      "outputs": [
        {
          "output_type": "execute_result",
          "data": {
            "text/plain": [
              "matrix([[ 0.,  1., -1.,  0.],\n",
              "        [ 5.,  3.,  2.,  1.],\n",
              "        [ 1.,  0.,  0.,  0.],\n",
              "        [ 1.,  1.,  0.,  0.]], dtype=float32)"
            ]
          },
          "metadata": {},
          "execution_count": 56
        }
      ]
    },
    {
      "cell_type": "markdown",
      "source": [
        "## Propagation"
      ],
      "metadata": {
        "id": "4H0wN4erdaNW"
      }
    },
    {
      "cell_type": "code",
      "source": [
        "layor_0 = np.dot(A_m, X_m)\n",
        "layor_0"
      ],
      "metadata": {
        "colab": {
          "base_uri": "https://localhost:8080/"
        },
        "id": "M3eCcTB4dgI3",
        "outputId": "97763c15-b76e-4309-e285-a2916948c05c"
      },
      "execution_count": null,
      "outputs": [
        {
          "output_type": "execute_result",
          "data": {
            "text/plain": [
              "matrix([[ 7.,  4.,  2.,  1.],\n",
              "        [ 2.,  1.,  0.,  0.],\n",
              "        [ 0.,  1., -1.,  0.],\n",
              "        [ 1.,  0.,  0.,  0.]], dtype=float32)"
            ]
          },
          "metadata": {},
          "execution_count": 57
        }
      ]
    },
    {
      "cell_type": "markdown",
      "source": [
        "## Including loops"
      ],
      "metadata": {
        "id": "XqGZNryFdxOS"
      }
    },
    {
      "cell_type": "code",
      "source": [
        "I_m = np.identity(A_m.shape[0])\n",
        "A_hat_m = A_m + I_m\n",
        "A_hat_m"
      ],
      "metadata": {
        "colab": {
          "base_uri": "https://localhost:8080/"
        },
        "id": "i1UUeWVBdwy3",
        "outputId": "5958b407-6245-4cc7-aef6-df5e798aa77c"
      },
      "execution_count": null,
      "outputs": [
        {
          "output_type": "execute_result",
          "data": {
            "text/plain": [
              "matrix([[1., 1., 1., 1.],\n",
              "        [0., 1., 1., 1.],\n",
              "        [1., 0., 1., 0.],\n",
              "        [0., 0., 1., 1.]])"
            ]
          },
          "metadata": {},
          "execution_count": 58
        }
      ]
    },
    {
      "cell_type": "markdown",
      "source": [
        "## Normalization"
      ],
      "metadata": {
        "id": "6MGm8LKbedtL"
      }
    },
    {
      "cell_type": "code",
      "source": [
        "diag = np.array(np.sum(A_hat_m, axis = 1)).T[0]\n",
        "diag"
      ],
      "metadata": {
        "colab": {
          "base_uri": "https://localhost:8080/"
        },
        "id": "CeWviPJbegXI",
        "outputId": "150dd7a9-80f1-4a01-ebd0-2534d7005e3a"
      },
      "execution_count": null,
      "outputs": [
        {
          "output_type": "execute_result",
          "data": {
            "text/plain": [
              "array([4., 3., 2., 2.])"
            ]
          },
          "metadata": {},
          "execution_count": 59
        }
      ]
    },
    {
      "cell_type": "code",
      "source": [
        "D_m = np.diag(diag)\n",
        "D_m"
      ],
      "metadata": {
        "colab": {
          "base_uri": "https://localhost:8080/"
        },
        "id": "X3jsMZdVfGY3",
        "outputId": "7eae455e-deb0-4aa7-b1ed-5b7d4345c264"
      },
      "execution_count": null,
      "outputs": [
        {
          "output_type": "execute_result",
          "data": {
            "text/plain": [
              "array([[4., 0., 0., 0.],\n",
              "       [0., 3., 0., 0.],\n",
              "       [0., 0., 2., 0.],\n",
              "       [0., 0., 0., 2.]])"
            ]
          },
          "metadata": {},
          "execution_count": 60
        }
      ]
    },
    {
      "cell_type": "code",
      "source": [
        "D_inv_m = np.linalg.inv(D_m)\n",
        "D_half_inv_m = np.linalg.inv(D_m**0.5)\n",
        "D_half_inv_m"
      ],
      "metadata": {
        "colab": {
          "base_uri": "https://localhost:8080/"
        },
        "id": "d1h4Mi0kfK4i",
        "outputId": "9c1d6418-6f70-430d-fcfd-f38a1807ce18"
      },
      "execution_count": null,
      "outputs": [
        {
          "output_type": "execute_result",
          "data": {
            "text/plain": [
              "array([[0.5       , 0.        , 0.        , 0.        ],\n",
              "       [0.        , 0.57735027, 0.        , 0.        ],\n",
              "       [0.        , 0.        , 0.70710678, 0.        ],\n",
              "       [0.        , 0.        , 0.        , 0.70710678]])"
            ]
          },
          "metadata": {},
          "execution_count": 61
        }
      ]
    },
    {
      "cell_type": "code",
      "source": [
        "D_inv_m*A_hat_m*X_m"
      ],
      "metadata": {
        "colab": {
          "base_uri": "https://localhost:8080/"
        },
        "id": "Wm8ps7MzhBNV",
        "outputId": "1c3b6417-1004-4015-9b1f-3d724adbe786"
      },
      "execution_count": null,
      "outputs": [
        {
          "output_type": "execute_result",
          "data": {
            "text/plain": [
              "matrix([[ 1.75      ,  1.25      ,  0.25      ,  0.25      ],\n",
              "        [ 2.33333333,  1.33333333,  0.66666667,  0.33333333],\n",
              "        [ 0.5       ,  0.5       , -0.5       ,  0.        ],\n",
              "        [ 1.        ,  0.5       ,  0.        ,  0.        ]])"
            ]
          },
          "metadata": {},
          "execution_count": 62
        }
      ]
    },
    {
      "cell_type": "markdown",
      "source": [
        "## Spectral Graph Convolution"
      ],
      "metadata": {
        "id": "JP5brN1sjkd8"
      }
    },
    {
      "cell_type": "code",
      "source": [
        "D_half_inv_m*A_hat_m*D_half_inv_m*X_m"
      ],
      "metadata": {
        "colab": {
          "base_uri": "https://localhost:8080/"
        },
        "id": "Fy1dFkCXjn-E",
        "outputId": "09cf57eb-0a23-433a-f376-ffd46d55dcc2"
      },
      "execution_count": null,
      "outputs": [
        {
          "output_type": "execute_result",
          "data": {
            "text/plain": [
              "matrix([[ 2.15048245,  1.46957879,  0.32735027,  0.28867513],\n",
              "        [ 2.48316325,  1.40824829,  0.66666667,  0.33333333],\n",
              "        [ 0.5       ,  0.35355339, -0.35355339,  0.        ],\n",
              "        [ 1.        ,  0.5       ,  0.        ,  0.        ]])"
            ]
          },
          "metadata": {},
          "execution_count": 63
        }
      ]
    },
    {
      "cell_type": "markdown",
      "source": [
        "## Defining relu"
      ],
      "metadata": {
        "id": "WdDf7Uw0lVy8"
      }
    },
    {
      "cell_type": "code",
      "source": [
        "def relu(a):\n",
        "    mask = a > 0\n",
        "    return np.multiply(a, mask)"
      ],
      "metadata": {
        "id": "PN7V8aa5lYpY"
      },
      "execution_count": null,
      "outputs": []
    },
    {
      "cell_type": "code",
      "source": [
        "relu(D_inv_m)"
      ],
      "metadata": {
        "colab": {
          "base_uri": "https://localhost:8080/"
        },
        "id": "_Fv_wlIflk3p",
        "outputId": "bcfbd7a2-977e-44a3-eb1e-998e7002767a"
      },
      "execution_count": null,
      "outputs": [
        {
          "output_type": "execute_result",
          "data": {
            "text/plain": [
              "array([[0.25      , 0.        , 0.        , 0.        ],\n",
              "       [0.        , 0.33333333, 0.        , 0.        ],\n",
              "       [0.        , 0.        , 0.5       , 0.        ],\n",
              "       [0.        , 0.        , 0.        , 0.5       ]])"
            ]
          },
          "metadata": {},
          "execution_count": 64
        }
      ]
    },
    {
      "cell_type": "code",
      "source": [
        "relu(np.matrix([\n",
        "                [-1, 4, 2, -1],\n",
        "                [-22, 3, -1, 1]\n",
        "]))"
      ],
      "metadata": {
        "colab": {
          "base_uri": "https://localhost:8080/"
        },
        "id": "SirEizrHlsAz",
        "outputId": "cc680a46-3f71-4900-dd92-7fce09822b9d"
      },
      "execution_count": null,
      "outputs": [
        {
          "output_type": "execute_result",
          "data": {
            "text/plain": [
              "matrix([[0, 4, 2, 0],\n",
              "        [0, 3, 0, 1]])"
            ]
          },
          "metadata": {},
          "execution_count": 52
        }
      ]
    },
    {
      "cell_type": "markdown",
      "source": [
        "# Pytorch implementation"
      ],
      "metadata": {
        "id": "kuruTACcl-Lj"
      }
    },
    {
      "cell_type": "code",
      "source": [
        "from collections import namedtuple\n",
        "from networkx import read_edgelist, set_node_attributes, to_numpy_matrix\n",
        "from pandas import read_csv, Series\n",
        "from numpy import array\n",
        "import torch\n",
        "import torch.nn as nn\n",
        "import torch.optim as optim\n",
        "import matplotlib.pyplot as plt"
      ],
      "metadata": {
        "id": "1txdDVVdmBSD"
      },
      "execution_count": null,
      "outputs": []
    },
    {
      "cell_type": "markdown",
      "source": [
        "## Data preprocessing"
      ],
      "metadata": {
        "id": "a1cvp3l0mtGh"
      }
    },
    {
      "cell_type": "code",
      "source": [
        "DataSet = namedtuple(\n",
        "    'DataSet',\n",
        "    field_names=['X_train', 'y_train', 'X_test', 'y_test', 'network']\n",
        ")\n",
        "\n",
        "def load_karate_club():\n",
        "    network = read_edgelist('/content/drive/MyDrive/Filmek/Susu/Önlab/karate.edgelist', nodetype=int)\n",
        "    attributes = read_csv('/content/drive/MyDrive/Filmek/Susu/Önlab/karate.attributes.csv', index_col=['node'])\n",
        "\n",
        "    for attribute in attributes.columns.values:\n",
        "        set_node_attributes(\n",
        "            network,\n",
        "            values=Series(\n",
        "                attributes[attribute],\n",
        "                index=attributes.index).to_dict(),\n",
        "            name=attribute\n",
        "        )\n",
        "\n",
        "    X_train, y_train = map(array, zip(*[\n",
        "        ([node], data['role'] == 'Administrator')\n",
        "        for node, data in network.nodes(data=True)\n",
        "        if data['role'] in {'Administrator', 'Instructor'}\n",
        "    ]))\n",
        "  \n",
        "    X_test, y_test = map(array, zip(*[\n",
        "        ([node], data['community'] == 'Administrator')\n",
        "        for node, data in network.nodes(data=True)\n",
        "        if data['role'] == 'Member'\n",
        "    ]))\n",
        "\n",
        "    return DataSet(\n",
        "        X_train, y_train,\n",
        "        X_test, y_test,\n",
        "        network\n",
        "    )"
      ],
      "metadata": {
        "id": "FCbtagRzn6Z9"
      },
      "execution_count": null,
      "outputs": []
    },
    {
      "cell_type": "code",
      "source": [
        "zkc = load_karate_club()\n",
        "X_train_flattened = torch.flatten(torch.from_numpy(zkc.X_train))\n",
        "X_test_flattened = torch.flatten(torch.from_numpy(zkc.X_test))\n",
        "y_train = torch.from_numpy(zkc.y_train).to(torch.float)\n",
        "\n",
        "print(y_train)\n",
        "A = to_numpy_matrix(zkc.network)\n",
        "A = torch.from_numpy(np.array(A))\n",
        "print(A)\n",
        "print(X_train_flattened)\n",
        "print(X_train_flattened.type())"
      ],
      "metadata": {
        "colab": {
          "base_uri": "https://localhost:8080/"
        },
        "id": "AMuYR_gSp0rH",
        "outputId": "7caba10a-2221-4d73-a9ce-81a7b1102eb2"
      },
      "execution_count": null,
      "outputs": [
        {
          "output_type": "stream",
          "name": "stdout",
          "text": [
            "tensor([1., 0.])\n",
            "tensor([[0., 1., 1.,  ..., 0., 0., 0.],\n",
            "        [1., 0., 1.,  ..., 0., 0., 0.],\n",
            "        [1., 1., 0.,  ..., 0., 0., 0.],\n",
            "        ...,\n",
            "        [0., 0., 0.,  ..., 0., 0., 1.],\n",
            "        [0., 0., 0.,  ..., 0., 0., 0.],\n",
            "        [0., 0., 0.,  ..., 1., 0., 0.]], dtype=torch.float64)\n",
            "tensor([ 0, 33])\n",
            "torch.LongTensor\n"
          ]
        }
      ]
    },
    {
      "cell_type": "markdown",
      "source": [
        "## SpectralRule and LogisticRegressor Moduls"
      ],
      "metadata": {
        "id": "sl_bHKPtyzVi"
      }
    },
    {
      "cell_type": "code",
      "source": [
        "class SpectralRule(nn.Module):\n",
        "\n",
        "    def __init__(self, A, input_units, output_units, activation = 'tanh'):\n",
        "        super(SpectralRule, self).__init__()\n",
        "\n",
        "        self.input_units = input_units\n",
        "        self.output_units = output_units\n",
        "        self.linear_layer = nn.Linear(self.input_units, self.output_units)\n",
        "        nn.init.xavier_normal_(self.linear_layer.weight)\n",
        "        if activation == 'relu':\n",
        "            self.activation = nn.ReLU()\n",
        "        elif activation == 'tanh':\n",
        "            self.activation = nn.Tanh()\n",
        "        else:\n",
        "            self.activation = nn.Identity()\n",
        "\n",
        "        #Created Identity Matrix\n",
        "        I = torch.eye(A.shape[0])\n",
        "\n",
        "        #Adding self loops to the adjecency matrix\n",
        "        A_hat = A + I\n",
        "        A_hat = A_hat.to(torch.double)\n",
        "\n",
        "        #Inverse degree matrix\n",
        "        D = torch.diag(torch.pow(torch.sum(A_hat, dim=0), -0.5), 0)\n",
        "\n",
        "        #Applying spectral rule\n",
        "        self.A_hat = torch.matmul(torch.matmul(D, A_hat), D)\n",
        "        self.A_hat.requires_grad = False\n",
        "\n",
        "    def forward(self,X):\n",
        "\n",
        "        #Aggregation\n",
        "        aggregation = torch.matmul(self.A_hat, X)\n",
        "\n",
        "        #Propagation\n",
        "        linear_output = self.linear_layer(aggregation.to(torch.float))\n",
        "        propagation = self.activation(linear_output)\n",
        "\n",
        "        return propagation.to(torch.double)\n",
        "\n",
        "\n",
        "class LogisticRegressor(nn.Module):\n",
        "\n",
        "    def __init__(self, input_units, output_units):\n",
        "        super(LogisticRegressor, self).__init__()\n",
        "\n",
        "        self.Linear = nn.Linear(input_units, output_units, bias=True)\n",
        "        nn.init.xavier_normal_(self.Linear.weight)\n",
        "        self.sigmoid = nn.Sigmoid()\n",
        "\n",
        "    def forward(self, X):\n",
        "        linear_output = self.Linear(X.to(torch.float))\n",
        "        return self.sigmoid(linear_output)"
      ],
      "metadata": {
        "id": "M9LWuY3My5Zd"
      },
      "execution_count": null,
      "outputs": []
    },
    {
      "cell_type": "markdown",
      "source": [
        "## Building the Base Model"
      ],
      "metadata": {
        "id": "8mRGyxBj8VMD"
      }
    },
    {
      "cell_type": "code",
      "source": [
        "identity = torch.eye(A.shape[1])\n",
        "identity = identity.to(torch.double)\n",
        "identity.requires_grad = False"
      ],
      "metadata": {
        "id": "ZygjYyG68Zx4"
      },
      "execution_count": null,
      "outputs": []
    },
    {
      "cell_type": "code",
      "source": [
        "hidden_layer_config = [(4, 'tanh'), (2, 'tanh')]"
      ],
      "metadata": {
        "id": "d2ncSGQb8uaP"
      },
      "execution_count": null,
      "outputs": []
    },
    {
      "cell_type": "code",
      "source": [
        "class FeatureModel(nn.Module):\n",
        "    def __init__(self, A, hidden_layer_config, initial_input_size):\n",
        "        super(FeatureModel, self).__init__()\n",
        "\n",
        "        self.hidden_layer_config = hidden_layer_config\n",
        "        self.moduleList = list()\n",
        "        self.initial_input_size = initial_input_size\n",
        "\n",
        "        for input_size, activation in hidden_layer_config:\n",
        "            self.moduleList.append(SpectralRule(A, self.initial_input_size, input_size, activation))\n",
        "            self.initial_input_size = input_size\n",
        "\n",
        "        self.sequentialModule = nn.Sequential(*self.moduleList)\n",
        "\n",
        "    def forward(self, X):\n",
        "        output = self.sequentialModule(X)\n",
        "        return output\n",
        "\n",
        "class ClassifierModel(nn.Module):\n",
        "    def __init__(self, input_size, output_size):\n",
        "        super(ClassifierModel, self).__init__()\n",
        "        self.logisticRegressor = LogisticRegressor(input_units=input_size, output_units=output_size)\n",
        "\n",
        "    def forward(self, X):\n",
        "        classified = self.logisticRegressor(X)\n",
        "        return classified\n",
        "\n",
        "\n",
        "class HybridModel(nn.Module):\n",
        "    def __init__(self, A , hidden_layer_config, initial_input_size):\n",
        "        super(HybridModel, self).__init__()\n",
        "        self.featureModel = FeatureModel(A, hidden_layer_config, initial_input_size)\n",
        "        self.featureModelOutputSize = self.featureModel.initial_input_size\n",
        "        self.classifier = ClassifierModel(self.featureModelOutputSize, 1)\n",
        "        self.featureModelOutput = None\n",
        "\n",
        "    def forward(self, X):\n",
        "        outputFeature = self.featureModel(X)\n",
        "        classified = self.classifier(outputFeature)\n",
        "        self.featureModelOutput = outputFeature\n",
        "        return classified"
      ],
      "metadata": {
        "id": "rzZmQhwl9dim"
      },
      "execution_count": null,
      "outputs": []
    },
    {
      "cell_type": "markdown",
      "source": [
        "## Identity Matrix as feature"
      ],
      "metadata": {
        "id": "JxN8sFQxDNVu"
      }
    },
    {
      "cell_type": "code",
      "source": [
        "model = HybridModel(A, hidden_layer_config, identity.shape[1])\n",
        "criterion = nn.BCELoss()\n",
        "optimizer = optim.SGD(model.parameters(), lr = 0.01, momentum = 0.9)\n",
        "featureoutput = None"
      ],
      "metadata": {
        "id": "XzAvl5P_DTcv"
      },
      "execution_count": null,
      "outputs": []
    },
    {
      "cell_type": "markdown",
      "source": [
        "## Train Model"
      ],
      "metadata": {
        "id": "1U9lkebfDg1V"
      }
    },
    {
      "cell_type": "code",
      "source": [
        "def train(model, epoch, criterion, optimizer, feature):\n",
        "    cumLoss = 0\n",
        "    losses = list()\n",
        "\n",
        "    for j in range(epoch):\n",
        "        two_loss = 0\n",
        "        for i, node in enumerate(X_train_flattened):\n",
        "            output = model(feature)[node]\n",
        "\n",
        "            ground_truth = torch.reshape(y_train[i], output.shape)\n",
        "\n",
        "            optimizer.zero_grad()\n",
        "\n",
        "            loss = criterion(output, ground_truth)\n",
        "            two_loss += loss.item()\n",
        "\n",
        "            loss.backward()\n",
        "\n",
        "            optimizer.step()\n",
        "\n",
        "        losses.append(two_loss)\n",
        "        cumLoss += two_loss\n",
        "\n",
        "    print('avg loss: ', cumLoss/epoch)\n",
        "    plt.plot(losses)"
      ],
      "metadata": {
        "id": "eMqg0Sj9DjSs"
      },
      "execution_count": null,
      "outputs": []
    },
    {
      "cell_type": "code",
      "source": [
        "train(model, 1000, criterion, optimizer, identity)"
      ],
      "metadata": {
        "colab": {
          "base_uri": "https://localhost:8080/",
          "height": 283
        },
        "id": "arbO7gpeF9W8",
        "outputId": "425a0c3c-f63d-4ea9-ba79-08666b662748"
      },
      "execution_count": null,
      "outputs": [
        {
          "output_type": "stream",
          "name": "stdout",
          "text": [
            "avg loss:  0.05377866799244657\n"
          ]
        },
        {
          "output_type": "display_data",
          "data": {
            "text/plain": [
              "<Figure size 432x288 with 1 Axes>"
            ],
            "image/png": "[encoded data removed]"
          },
          "metadata": {
            "needs_background": "light"
          }
        }
      ]
    }
  ]
}